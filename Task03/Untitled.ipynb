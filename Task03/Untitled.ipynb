{
 "cells": [
  {
   "cell_type": "markdown",
   "metadata": {},
   "source": [
    "Dear Professor Becker,<br>\n",
    "Please find below the 2 physics videos links:<br>\n",
    "\n",
    "Task01:<br>\n",
    "https://youtu.be/cKPyViic5CU<br>\n",
    "<br>\n",
    "Task02:<br>\n",
    "https://youtu.be/KitC9YjNGxw\n"
   ]
  }
 ],
 "metadata": {
  "kernelspec": {
   "display_name": "Python 3",
   "language": "python",
   "name": "python3"
  },
  "language_info": {
   "codemirror_mode": {
    "name": "ipython",
    "version": 3
   },
   "file_extension": ".py",
   "mimetype": "text/x-python",
   "name": "python",
   "nbconvert_exporter": "python",
   "pygments_lexer": "ipython3",
   "version": "3.8.5"
  }
 },
 "nbformat": 4,
 "nbformat_minor": 4
}
