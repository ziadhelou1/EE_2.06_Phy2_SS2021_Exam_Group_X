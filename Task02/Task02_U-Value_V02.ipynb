{
 "cells": [
  {
   "cell_type": "markdown",
   "metadata": {},
   "source": [
    "# Task 02: U-Value of a Tiny House\n",
    "\n",
    "The exercise is described on the teaching wiki: https://teawiki.net/doku.php?id=phy2:projects:u-value_v02:start"
   ]
  },
  {
   "cell_type": "markdown",
   "metadata": {},
   "source": [
    "**1- Sketch the outer envelope of the house roughly. You do not have to take into account details such as rafters, birdsmouth joints or wall layers.**"
   ]
  },
  {
   "cell_type": "markdown",
   "metadata": {},
   "source": [
    "Please find a detailed video under this link:<br>\n",
    "https://youtu.be/KitC9YjNGxw"
   ]
  },
  {
   "cell_type": "code",
   "execution_count": 1,
   "metadata": {},
   "outputs": [],
   "source": [
    "from PIL import Image\n",
    "myImage = Image.open(\"House.jpg\")\n",
    "myImage.show() #the picture will open in another program, if not, it is in the same directory under the name of \"house\""
   ]
  },
  {
   "cell_type": "markdown",
   "metadata": {},
   "source": [
    "**2- Make reasonable assumptions about the foundation and ground floor. Determine its U-value. Look for relevant information on the internet. Give the references to all information you are using in your descriptive text.**"
   ]
  },
  {
   "cell_type": "markdown",
   "metadata": {},
   "source": [
    "Looking in (floortechie) and (thespruce) websites for information about floor layers materials. [1] [2]<br>\n",
    "They almost have the same information:<br>\n",
    "Subfloor, underlayment and floor covering. These layers will be on top of each others as series.<br>\n",
    "They are recommending to choose between a lot of different materials for each layer, so I chose one for each and did my study based on this.<br>\n",
    "Starting from subfloor from the bottom, I chose concrete."
   ]
  },
  {
   "cell_type": "markdown",
   "metadata": {},
   "source": [
    "Looking in passivehouse.com and information about detached houses, there is a residential house constructed by them in Lindlar-Hohkeppel (North Rhine-Westphalia). (3) In the floor section it is stated:\n",
    "\"no basement, concrete floor slab insulated on top\n",
    "U-value = 0.114 W/(m².K)\""
   ]
  },
  {
   "cell_type": "markdown",
   "metadata": {},
   "source": [
    "The standard concrete floor slab thickness in residential construction is 4 inches = 10cm. [4]<br>\n",
    "The concrete thermal conductivity is 1.28 W/(m.K) in a standard of 20 degrees celsius. [5]<br>\n",
    "Concrete thermal conductivity is 0.8 W/(m.K), this is the value that I will use in my calculations. [6]<br>\n",
    "**Concrete thickness = 0.1 m; Concrete thermal conductivity = 0.8 W/(m.K)**<br>\n",
    "<br>\n",
    "In the underlayment layer over the concrete, the recommended thickness of the layer is between 1/4 and 1/2 inches. [2]. Working on half inches equals to 1.27 cm or 0.127 meters.<br>\n",
    "Cork is one of the recommended layers. [2].\n",
    "Thermal conductivity of a cork between 0.032 and 0.044 W/(m.K) depending on its density.<br>\n",
    "I will consider a middle value that has a thermal  conductivity of 0.038 W/(m.K). The one that has a density of 0.195 g.cm^3.L<br>\n",
    "**Cork thickness = 0.127 m; Corck thermal conductivity = 0.038 W/(m.K)**<br>\n",
    "<br>\n",
    "Ceramic is a recommended choice also which has a thermal conductivity of 1.6 W/(m.K). [7]<br>\n",
    "Ceramic thickness can be 1/2 or 3/4 inches. Working on 1/2 inches = 0.127 meters.<br>[15]\n",
    "**Ceramic thickness = 0.127 m; Ceramic thermal conductivity = 1.6 W/(m.K).**<br>\n",
    "<br>\n",
    "I will implement all the values now that was mentioned before in a way that we can calculate directly in Python.\n",
    "Next steps are the calculation of this kind of floor to see if it matches approximately the information of (concreteconstruction).<br>"
   ]
  },
  {
   "cell_type": "code",
   "execution_count": 286,
   "metadata": {},
   "outputs": [],
   "source": [
    "import numpy as np\n",
    "np.set_printoptions(precision=3) #rounding arrays to 3 decimals"
   ]
  },
  {
   "cell_type": "markdown",
   "metadata": {},
   "source": [
    "d: thickness of the layer (m)<br>\n",
    "λ: thermal conductivity (W/(m∙K))<br>\n",
    "Λ: thermal transmittance = W/(m²∙K)<br>\n",
    "Λ = λ/d<br>\n",
    "R: Thermal Resistance (m²∙K)/W<br>\n",
    "R = 1/Λ<br>\n",
    "RT: Total thermal resistance of many layers combined<br>\n",
    "U-value: total thermal transmittance of many layers combined(W/(m²∙K))<br>\n",
    "U-value = 1/RT<br>\n",
    "f: fraction of the area depending on the total area<br>\n",
    "f= area/total_area<br>\n",
    "\n"
   ]
  },
  {
   "cell_type": "code",
   "execution_count": 287,
   "metadata": {},
   "outputs": [],
   "source": [
    "λ_con = 0.8 #concrete thermal conductivity\n",
    "d_con = 0.1 #concrete thickness\n",
    "λ_cork = 0.038 #corck thermal conductivity\n",
    "d_cork = 0.127 #corck thickness\n",
    "λ_cer = 1.6 #Ceramic thermal conductivity\n",
    "d_cer = 0.127 #Ceramic thickness"
   ]
  },
  {
   "cell_type": "code",
   "execution_count": 288,
   "metadata": {},
   "outputs": [
    {
     "name": "stdout",
     "output_type": "stream",
     "text": [
      "[0.8   0.038 1.6  ]\n"
     ]
    }
   ],
   "source": [
    "λ_floor = np.array([0.8, 0.038, 1.6]) #thermal conductivity of all the layers respectively (W/(m∙K))\n",
    "print (λ_floor)"
   ]
  },
  {
   "cell_type": "code",
   "execution_count": 289,
   "metadata": {},
   "outputs": [
    {
     "name": "stdout",
     "output_type": "stream",
     "text": [
      "[0.1   0.127 0.127]\n"
     ]
    }
   ],
   "source": [
    "d_floor = np.array([0.1, 0.127, 0.127]) #thickness of all the layers respectively (m)\n",
    "print(d_floor)"
   ]
  },
  {
   "cell_type": "code",
   "execution_count": 290,
   "metadata": {},
   "outputs": [
    {
     "name": "stdout",
     "output_type": "stream",
     "text": [
      "[ 8.     0.299 12.598]\n"
     ]
    }
   ],
   "source": [
    "Λ_floor = λ_floor/d_floor #Thermal transmittance of all layers respectively (W/(m²∙K))\n",
    "print (Λ_floor)"
   ]
  },
  {
   "cell_type": "code",
   "execution_count": 291,
   "metadata": {},
   "outputs": [
    {
     "name": "stdout",
     "output_type": "stream",
     "text": [
      "[0.125 3.342 0.079]\n"
     ]
    }
   ],
   "source": [
    "R_floor_arr = 1/Λ_floor #Thermal Resistance of all layers respectively ((m²∙K)/W)\n",
    "print (R_floor_arr)"
   ]
  },
  {
   "cell_type": "code",
   "execution_count": 292,
   "metadata": {},
   "outputs": [
    {
     "data": {
      "text/plain": [
       "3.546"
      ]
     },
     "execution_count": 292,
     "metadata": {},
     "output_type": "execute_result"
    }
   ],
   "source": [
    "R_floor = sum(R_floor_arr)\n",
    "float(\"{0:.3f}\".format(R_floor))"
   ]
  },
  {
   "cell_type": "markdown",
   "metadata": {},
   "source": [
    "Rsi = internal surface resistance upwards = 0.17(m²∙K)/W<br>\n",
    "Rse = external surface resistance upwards = 0.04(m²∙K)/W<br>\n",
    "Values are by (IS06946)"
   ]
  },
  {
   "cell_type": "code",
   "execution_count": 293,
   "metadata": {},
   "outputs": [],
   "source": [
    "Rsi_floor = 0.17\n",
    "Rse_floor = 0.04"
   ]
  },
  {
   "cell_type": "code",
   "execution_count": 294,
   "metadata": {},
   "outputs": [
    {
     "data": {
      "text/plain": [
       "3.756"
      ]
     },
     "execution_count": 294,
     "metadata": {},
     "output_type": "execute_result"
    }
   ],
   "source": [
    "R_floor_total = Rsi_floor + R_floor + Rse_floor #Unit (m²∙K)/W\n",
    "float(\"{0:.3f}\".format(R_floor_total))"
   ]
  },
  {
   "cell_type": "markdown",
   "metadata": {},
   "source": [
    "Thermal resistance of the floor = 3.686 (m²∙K)/W"
   ]
  },
  {
   "cell_type": "code",
   "execution_count": 295,
   "metadata": {},
   "outputs": [
    {
     "data": {
      "text/plain": [
       "0.282"
      ]
     },
     "execution_count": 295,
     "metadata": {},
     "output_type": "execute_result"
    }
   ],
   "source": [
    "Uvalue_floor = 1/R_floor #W/(m²∙K)\n",
    "float(\"{0:.3f}\".format(Uvalue_floor))"
   ]
  },
  {
   "cell_type": "markdown",
   "metadata": {},
   "source": [
    "Total thermal transmittance of the floor (U-value) = 0.282 W/(m²∙K)"
   ]
  },
  {
   "cell_type": "markdown",
   "metadata": {},
   "source": [
    "**3- Find U-values for the primitive windows and the front door. Make reasonable assumptions.**"
   ]
  },
  {
   "cell_type": "markdown",
   "metadata": {},
   "source": [
    "The standard single layer thickness for extremely large windows is 3/16 inches = 0,0023 meters. [8]\n"
   ]
  },
  {
   "cell_type": "code",
   "execution_count": 296,
   "metadata": {},
   "outputs": [
    {
     "data": {
      "text/plain": [
       "80.0"
      ]
     },
     "execution_count": 296,
     "metadata": {},
     "output_type": "execute_result"
    }
   ],
   "source": [
    "#thermal conductivity of single glazing website according to the websites below\n",
    "#Thermal conductivity = 1\n",
    "#https://uk.saint-gobain-building-glass.com/en-gb/glass-and-thermal-insulation\n",
    "\n",
    "#U-value metal frame more or equal than 1 and non metal frame 0.71 to 0.99 so 1\n",
    "#https://www.efficientwindows.org/gtypes-1/\n",
    "\n",
    "#3 to 12 mm single glazing glass. U-value 1\n",
    "#https://arcodoubleglazing.com.au/blog/heat-loss-double-glazed-vs-single-glazed/\n",
    "\n",
    "λwin = 0.8\n",
    "dwin = 0.01\n",
    "Λwin = λwin/dwin\n",
    "Rwin = 1/Λwin\n",
    "Λwin"
   ]
  },
  {
   "cell_type": "markdown",
   "metadata": {},
   "source": [
    "This value is not reasonable for me that's why I tried to find more information.<br>\n",
    "Looking at other information online, I found that \"the single-glazed window achieves a U-value of 4.8, but it is interesting to note that significant improvements can be made by benign measures such as closing internal shutters, which brings the U-value down to 3.0.\" [9]"
   ]
  },
  {
   "cell_type": "code",
   "execution_count": 297,
   "metadata": {},
   "outputs": [
    {
     "data": {
      "text/plain": [
       "0.333"
      ]
     },
     "execution_count": 297,
     "metadata": {},
     "output_type": "execute_result"
    }
   ],
   "source": [
    "Λw = 3 #I will use this value in my calculations.\n",
    "Rw = 1/Λw\n",
    "float(\"{0:.3f}\".format(Rw))"
   ]
  },
  {
   "cell_type": "markdown",
   "metadata": {},
   "source": [
    "Thermal Resistance Rw of the window = 0.333"
   ]
  },
  {
   "cell_type": "markdown",
   "metadata": {},
   "source": [
    "Rsi = internal surface resistance horizontal = 0.13 (m²∙K)/W<br>\n",
    "Rse = external surface resistance horizontal = 0.04 (m²∙K)/W<br>\n",
    "Values are by (IS06946)"
   ]
  },
  {
   "cell_type": "code",
   "execution_count": 298,
   "metadata": {},
   "outputs": [],
   "source": [
    "Rsi = 0.13\n",
    "Rse = 0.04"
   ]
  },
  {
   "cell_type": "code",
   "execution_count": 299,
   "metadata": {},
   "outputs": [
    {
     "data": {
      "text/plain": [
       "0.503"
      ]
     },
     "execution_count": 299,
     "metadata": {},
     "output_type": "execute_result"
    }
   ],
   "source": [
    "Rw_t = Rsi + Rw + Rse\n",
    "float(\"{0:.3f}\".format(Rw_t))"
   ]
  },
  {
   "cell_type": "markdown",
   "metadata": {},
   "source": [
    " "
   ]
  },
  {
   "cell_type": "markdown",
   "metadata": {},
   "source": [
    "Wood thermal conductivity is between 0.04 and 0.12 W/(m.K). Taking the middle value 0.08 W/(m.K). [6]<br>\n",
    "Standard door thickness is 1.75 inches = 0,044 meters. [10]"
   ]
  },
  {
   "cell_type": "code",
   "execution_count": 300,
   "metadata": {},
   "outputs": [
    {
     "data": {
      "text/plain": [
       "1.818"
      ]
     },
     "execution_count": 300,
     "metadata": {},
     "output_type": "execute_result"
    }
   ],
   "source": [
    "λd = 0.08\n",
    "dd = 0.044\n",
    "Λd = λd/dd\n",
    "Rd = 1/Λd\n",
    "float(\"{0:.3f}\".format(Λd))"
   ]
  },
  {
   "cell_type": "markdown",
   "metadata": {},
   "source": [
    "Thermal transmittance U-value of the door = 1.818 W/(m²∙K)"
   ]
  },
  {
   "cell_type": "code",
   "execution_count": 301,
   "metadata": {},
   "outputs": [
    {
     "data": {
      "text/plain": [
       "0.55"
      ]
     },
     "execution_count": 301,
     "metadata": {},
     "output_type": "execute_result"
    }
   ],
   "source": [
    "float(\"{0:.3f}\".format(Rd))"
   ]
  },
  {
   "cell_type": "markdown",
   "metadata": {},
   "source": [
    "Thermal Resistance Rd of the door = 0.55"
   ]
  },
  {
   "cell_type": "code",
   "execution_count": 302,
   "metadata": {},
   "outputs": [
    {
     "data": {
      "text/plain": [
       "0.72"
      ]
     },
     "execution_count": 302,
     "metadata": {},
     "output_type": "execute_result"
    }
   ],
   "source": [
    "Rd_t = Rsi + Rd + Rse\n",
    "Rd_t"
   ]
  },
  {
   "cell_type": "markdown",
   "metadata": {},
   "source": [
    "**4- Determine the U-values of the wall without opening and draw the temperature profile when the room temperature is 20°C and the outside temperature -5°C.**"
   ]
  },
  {
   "cell_type": "markdown",
   "metadata": {},
   "source": [
    "The wall is made of 4 layers. We determine the thermal resistance of each layer and than we will find the U-value<br>\n",
    "d: thickness of the layer (m)<br>\n",
    "λ: thermal conductivity (W/(m∙K))<br>\n",
    "Λ: thermal transmittance = W/(m²∙K)<br>\n",
    "Λ = λ/d<br>\n",
    "R: Thermal Resistance (m²∙K)/W<br>\n",
    "R = 1/Λ<br>\n",
    "RT: Total thermal resistance of many layers combined<br>\n",
    "U-value: total thermal transmittance of many layers combined(W/(m²∙K))<br>\n",
    "U-value = 1/RT<br>\n",
    "q: heat flux density (W/m²)<br>\n",
    "q = (1/R).ΔT<br>\n",
    "T: temperature (K)<br>\n",
    "ΔT: temperature difference (K)<br>\n",
    "ΔT = q.R<br>\n",
    "f: fraction of the area depending on the total area<br>\n",
    "f= area/total_area<br>\n",
    "<br>\n",
    "**The wall consists of 4 layers, we use the information of these layers in order respectively in all arrays:**<br>\n",
    "Plaster:<br>\n",
    "Thicnkess: d1 = 0.01 m; Thermal conductivity λ1 = 0.510 W/(m∙K)<br>\n",
    "<br>\n",
    "Sand-lime brick:<br>\n",
    "Thickness: d2 = 0.24 m; Thermal conductivity λ2 = 0.56 W/(m∙K)<br>\n",
    "<br>\n",
    "Core insulation:<br>\n",
    "Thickness: d3 = 0.04 m; Thermal conductivity λ3 = 0.035 W/(m∙K)<br>\n",
    "<br>\n",
    "Solid brick cladding:<br>0.560.56\n",
    "Thickness: d4 = 0.115 m; Thermal conductivity λ4 = 0.5 W/(m∙K)<br>\n",
    "<br>\n",
    "Total layers thickness = 0.405m"
   ]
  },
  {
   "cell_type": "code",
   "execution_count": 303,
   "metadata": {},
   "outputs": [],
   "source": [
    "dtotal = 0.405"
   ]
  },
  {
   "cell_type": "code",
   "execution_count": 304,
   "metadata": {},
   "outputs": [
    {
     "name": "stdout",
     "output_type": "stream",
     "text": [
      "[0.51  0.56  0.035 0.5  ]\n"
     ]
    }
   ],
   "source": [
    "λ = np.array([0.510, 0.56, 0.035, 0.5]) #thermal conductivity of all the layers respectively (W/(m∙K))\n",
    "print (λ)"
   ]
  },
  {
   "cell_type": "code",
   "execution_count": 305,
   "metadata": {},
   "outputs": [
    {
     "name": "stdout",
     "output_type": "stream",
     "text": [
      "[0.01  0.24  0.04  0.115]\n"
     ]
    }
   ],
   "source": [
    "d = np.array([0.01, 0.24, 0.04, 0.115]) #thickness of all the layers respectively (m)\n",
    "print(d)"
   ]
  },
  {
   "cell_type": "code",
   "execution_count": 306,
   "metadata": {},
   "outputs": [
    {
     "name": "stdout",
     "output_type": "stream",
     "text": [
      "[51.     2.333  0.875  4.348]\n"
     ]
    }
   ],
   "source": [
    "Λ = λ/d #Thermal transmittance of all layers respectively (W/(m²∙K))\n",
    "print (Λ)"
   ]
  },
  {
   "cell_type": "code",
   "execution_count": 307,
   "metadata": {},
   "outputs": [
    {
     "name": "stdout",
     "output_type": "stream",
     "text": [
      "[0.02  0.429 1.143 0.23 ]\n"
     ]
    }
   ],
   "source": [
    "R = 1/Λ #Thermal Resistance of all layers respectively ((m²∙K)/W)\n",
    "print (R)"
   ]
  },
  {
   "cell_type": "code",
   "execution_count": 308,
   "metadata": {},
   "outputs": [
    {
     "data": {
      "text/plain": [
       "1.821"
      ]
     },
     "execution_count": 308,
     "metadata": {},
     "output_type": "execute_result"
    }
   ],
   "source": [
    "R_wall_west = np.sum([R]) #summ of R1, R2, R3 and R4. Unit ((m²∙K)/W)\n",
    "float(\"{0:.3f}\".format(R_wall_west))"
   ]
  },
  {
   "cell_type": "code",
   "execution_count": 309,
   "metadata": {},
   "outputs": [
    {
     "data": {
      "text/plain": [
       "1.991"
      ]
     },
     "execution_count": 309,
     "metadata": {},
     "output_type": "execute_result"
    }
   ],
   "source": [
    "R_wall_west_total = Rsi + R_wall_west + Rse #because they are in series and not parallel. Unit ((m²∙K)/W)\n",
    "float(\"{0:.3f}\".format(R_wall_west_total))"
   ]
  },
  {
   "cell_type": "markdown",
   "metadata": {},
   "source": [
    "Thermal resistance of the west wall without windows and door = 1.991 (m²∙K)/W<br>\n",
    "<br>"
   ]
  },
  {
   "cell_type": "code",
   "execution_count": 310,
   "metadata": {},
   "outputs": [
    {
     "data": {
      "text/plain": [
       "0.502"
      ]
     },
     "execution_count": 310,
     "metadata": {},
     "output_type": "execute_result"
    }
   ],
   "source": [
    "Uvalue_wall_west = 1/R_wall_west_total\n",
    "float(\"{0:.3f}\".format(Uvalue_wall_west))"
   ]
  },
  {
   "cell_type": "markdown",
   "metadata": {},
   "source": [
    "Total thermal transmittance of the west wall (U-value) = 0.502 W/(m²∙K)<br>\n",
    "<br>"
   ]
  },
  {
   "cell_type": "code",
   "execution_count": 311,
   "metadata": {},
   "outputs": [],
   "source": [
    "ΔT_diff = 25 #Kelvin. 20-(-5) degrees celsius = 25 degrees celsius in difference = 25 Kelvin in difference.\n",
    "             #Difference measured between internal and external temperature."
   ]
  },
  {
   "cell_type": "code",
   "execution_count": 312,
   "metadata": {},
   "outputs": [
    {
     "data": {
      "text/plain": [
       "13.728"
      ]
     },
     "execution_count": 312,
     "metadata": {},
     "output_type": "execute_result"
    }
   ],
   "source": [
    "q = (1/R_wall_west)*ΔT_diff # total heat flux density. Heat flux is a flow of energy per unit of area (W/m²).\n",
    "float(\"{0:.3f}\".format(q))"
   ]
  },
  {
   "cell_type": "markdown",
   "metadata": {},
   "source": [
    "Heat flux density of the wall is 13.728 (W/m²)<br>\n",
    "<br>"
   ]
  },
  {
   "cell_type": "markdown",
   "metadata": {},
   "source": [
    "ΔT_diff = ΔT1 + ΔT2 + ΔT3 + ΔT4<br>\n",
    "Temperature difference 25 Kelvin of all the wall is the sum of the temperatures differences of all layers.<br>\n",
    "q = q1 + q2 + q3 + q4<br>\n",
    "Heat flux of all the wall is the sum of all the heat fluxes of all layers.<br>\n",
    "ΔT1 = qR1, ΔT2 = qR2, ect... <br>\n",
    "We can use another formula also to identify the temperature differece of each layer ΔT1 = (R1/Rtotal)*ΔT_diff"
   ]
  },
  {
   "cell_type": "code",
   "execution_count": 313,
   "metadata": {},
   "outputs": [
    {
     "name": "stdout",
     "output_type": "stream",
     "text": [
      "[ 0.269  5.884 15.69   3.158]\n"
     ]
    }
   ],
   "source": [
    "ΔT = np.array(R/R_wall_west)*ΔT_diff\n",
    "print (ΔT)"
   ]
  },
  {
   "cell_type": "markdown",
   "metadata": {},
   "source": [
    "or"
   ]
  },
  {
   "cell_type": "code",
   "execution_count": 314,
   "metadata": {},
   "outputs": [
    {
     "name": "stdout",
     "output_type": "stream",
     "text": [
      "[ 0.269  5.884 15.69   3.158]\n"
     ]
    }
   ],
   "source": [
    "ΔT = q*R #temperature difference in all the layers respectively\n",
    "print (ΔT)"
   ]
  },
  {
   "cell_type": "markdown",
   "metadata": {},
   "source": [
    "This is the temperature difference in each layer starting from inside to outside when the inside temperature is 20°C and the outside temperature -5°C."
   ]
  },
  {
   "cell_type": "code",
   "execution_count": 315,
   "metadata": {},
   "outputs": [],
   "source": [
    "import matplotlib.pyplot as plt"
   ]
  },
  {
   "cell_type": "code",
   "execution_count": 316,
   "metadata": {},
   "outputs": [
    {
     "name": "stdout",
     "output_type": "stream",
     "text": [
      "[0.01  0.24  0.04  0.115]\n"
     ]
    }
   ],
   "source": [
    "print (d)"
   ]
  },
  {
   "cell_type": "code",
   "execution_count": 317,
   "metadata": {},
   "outputs": [
    {
     "name": "stdout",
     "output_type": "stream",
     "text": [
      "[ 1.  24.   4.  11.5]\n"
     ]
    }
   ],
   "source": [
    "d_cm = d*100\n",
    "print (d_cm)"
   ]
  },
  {
   "cell_type": "code",
   "execution_count": 318,
   "metadata": {},
   "outputs": [
    {
     "data": {
      "text/plain": [
       "array([ 1. , 25. , 29. , 40.5])"
      ]
     },
     "execution_count": 318,
     "metadata": {},
     "output_type": "execute_result"
    }
   ],
   "source": [
    "d_cm1 = d_cm.cumsum()\n",
    "d_cm1"
   ]
  },
  {
   "cell_type": "code",
   "execution_count": 319,
   "metadata": {},
   "outputs": [
    {
     "data": {
      "text/plain": [
       "array([ 0. ,  1. , 25. , 29. , 40.5])"
      ]
     },
     "execution_count": 319,
     "metadata": {},
     "output_type": "execute_result"
    }
   ],
   "source": [
    "d_cm2 = np.array([0, d_cm1[0],d_cm1[1], d_cm1[2], d_cm1[3]])\n",
    "d_cm2"
   ]
  },
  {
   "cell_type": "code",
   "execution_count": 320,
   "metadata": {},
   "outputs": [],
   "source": [
    "ΔT3 = np.array([20, 19.73, 13.84, -1.84, -5])"
   ]
  },
  {
   "cell_type": "code",
   "execution_count": 321,
   "metadata": {},
   "outputs": [
    {
     "data": {
      "image/png": "[encoded data removed]",
      "text/plain": [
       "<Figure size 1170x520 with 1 Axes>"
      ]
     },
     "metadata": {
      "needs_background": "light"
     },
     "output_type": "display_data"
    }
   ],
   "source": [
    "fig1, ax = plt.subplots(figsize=(9,4), dpi=130)\n",
    "ax.plot(d_cm2, ΔT3, 'r-o')\n",
    "#ax.plot(x1,y1)\n",
    "plt.axvline(x=0, ymin=0, ymax=1)\n",
    "plt.axvline(x=1, ymin=0, ymax=1)\n",
    "plt.axvline(x=25, ymin=0, ymax=1)\n",
    "plt.axvline(x=29, ymin=0, ymax=1)\n",
    "plt.axvline(x=40.5, ymin=0, ymax=1)\n",
    "plt.grid(True)\n",
    "plt.show()"
   ]
  },
  {
   "cell_type": "markdown",
   "metadata": {},
   "source": [
    "**5- Determine the U-values of the other walls**"
   ]
  },
  {
   "cell_type": "markdown",
   "metadata": {},
   "source": [
    "**Determining the east wall:**"
   ]
  },
  {
   "cell_type": "markdown",
   "metadata": {},
   "source": [
    "Now we have all information for the wall structure that combines a 4 layers, and we have infomrtation for the door. Combining them in parallel. But first we should identify how much is the percentage space proportion of each of the door and the wall, so we should identify the f."
   ]
  },
  {
   "cell_type": "code",
   "execution_count": 322,
   "metadata": {},
   "outputs": [
    {
     "data": {
      "text/plain": [
       "10.5"
      ]
     },
     "execution_count": 322,
     "metadata": {},
     "output_type": "execute_result"
    }
   ],
   "source": [
    "A_d = 2*1 #A_d is the door area\n",
    "A_ew = 5*2.5 - A_d #A_ew is the area of the east wall\n",
    "A_ew"
   ]
  },
  {
   "cell_type": "markdown",
   "metadata": {},
   "source": [
    "The area of the wall without the door area is 10.5 square meters"
   ]
  },
  {
   "cell_type": "code",
   "execution_count": 323,
   "metadata": {},
   "outputs": [
    {
     "data": {
      "text/plain": [
       "2"
      ]
     },
     "execution_count": 323,
     "metadata": {},
     "output_type": "execute_result"
    }
   ],
   "source": [
    "A_d"
   ]
  },
  {
   "cell_type": "markdown",
   "metadata": {},
   "source": [
    "The area of the door is 2 square meters"
   ]
  },
  {
   "cell_type": "code",
   "execution_count": 324,
   "metadata": {},
   "outputs": [
    {
     "data": {
      "text/plain": [
       "12.5"
      ]
     },
     "execution_count": 324,
     "metadata": {},
     "output_type": "execute_result"
    }
   ],
   "source": [
    "A_ewt = 2.5*5 #total east wall area\n",
    "A_ewt"
   ]
  },
  {
   "cell_type": "markdown",
   "metadata": {},
   "source": [
    "The total area of the east wall combining the wall and the door is 12.5 square meters.<br>\n",
    "Dividing the area of the door by the total area and the area of the wall by the total area of the east wall to find the fraction"
   ]
  },
  {
   "cell_type": "code",
   "execution_count": 325,
   "metadata": {},
   "outputs": [
    {
     "data": {
      "text/plain": [
       "0.16"
      ]
     },
     "execution_count": 325,
     "metadata": {},
     "output_type": "execute_result"
    }
   ],
   "source": [
    "f_d = A_d/A_ewt\n",
    "f_d"
   ]
  },
  {
   "cell_type": "markdown",
   "metadata": {},
   "source": [
    "The door forms 16% from the total east wall area"
   ]
  },
  {
   "cell_type": "code",
   "execution_count": 326,
   "metadata": {},
   "outputs": [
    {
     "data": {
      "text/plain": [
       "0.84"
      ]
     },
     "execution_count": 326,
     "metadata": {},
     "output_type": "execute_result"
    }
   ],
   "source": [
    "f_ew = A_ew/A_ewt\n",
    "f_ew"
   ]
  },
  {
   "cell_type": "markdown",
   "metadata": {},
   "source": [
    "The wall that consists of 4 layers forms 84% of the total east wall area"
   ]
  },
  {
   "cell_type": "code",
   "execution_count": 327,
   "metadata": {},
   "outputs": [
    {
     "data": {
      "text/plain": [
       "1.553"
      ]
     },
     "execution_count": 327,
     "metadata": {},
     "output_type": "execute_result"
    }
   ],
   "source": [
    "X1 = f_d*(1/Rd_t) + f_ew*(1/R_wall_west_total)\n",
    "#X1 = 1/R_wall_east_total. I did it this way because python doesn't give results when using the formula as it is.\n",
    "#R_wall_west_total is the total thermal resistance of the west wall which has same layers as the east, south and north walls\n",
    "\n",
    "R_wall_east_total = 1/X1\n",
    "float(\"{0:.3f}\".format(R_wall_east_total)) #Unit ((m²∙K)/W)"
   ]
  },
  {
   "cell_type": "markdown",
   "metadata": {},
   "source": [
    "Or we can calculate it this way:"
   ]
  },
  {
   "cell_type": "code",
   "execution_count": 328,
   "metadata": {},
   "outputs": [
    {
     "data": {
      "text/plain": [
       "1.553"
      ]
     },
     "execution_count": 328,
     "metadata": {},
     "output_type": "execute_result"
    }
   ],
   "source": [
    "R_wall_east_total = Rd_t*R_wall_west_total/((f_d*R_wall_west_total)+(f_ew*Rd_t)) \n",
    "float(\"{0:.3f}\".format(R_wall_east_total)) #Unit ((m²∙K)/W)"
   ]
  },
  {
   "cell_type": "code",
   "execution_count": 329,
   "metadata": {},
   "outputs": [
    {
     "data": {
      "text/plain": [
       "0.644"
      ]
     },
     "execution_count": 329,
     "metadata": {},
     "output_type": "execute_result"
    }
   ],
   "source": [
    "Uvalue_wall_east = 1/R_wall_east_total\n",
    "float(\"{0:.3f}\".format(Uvalue_wall_east))"
   ]
  },
  {
   "cell_type": "code",
   "execution_count": 330,
   "metadata": {},
   "outputs": [
    {
     "data": {
      "text/plain": [
       "0.502"
      ]
     },
     "execution_count": 330,
     "metadata": {},
     "output_type": "execute_result"
    }
   ],
   "source": [
    "float(\"{0:.3f}\".format(Uvalue_wall_west))"
   ]
  },
  {
   "cell_type": "markdown",
   "metadata": {},
   "source": [
    "Comparin the Uvalue of the east wall and the west wall, we find that that there is a small difference because of the door. The door is less likely to store the energy as it is consisting of wood only without adding insulation materials. But it doesn't affect the U-value a lot as it takes only 16% of the total area of the wall."
   ]
  },
  {
   "cell_type": "markdown",
   "metadata": {},
   "source": [
    "<br>**Determining south and north wall:**<br>"
   ]
  },
  {
   "cell_type": "markdown",
   "metadata": {},
   "source": [
    "We will use the same steps that we used to identify the U-value of the east wall but instead of the door we have to use the information of the window. We can identify the U-value of one of the 2 sides either south or north, and the other wall would have the same value as they are exactly the same."
   ]
  },
  {
   "cell_type": "code",
   "execution_count": 331,
   "metadata": {},
   "outputs": [
    {
     "data": {
      "text/plain": [
       "10.9"
      ]
     },
     "execution_count": 331,
     "metadata": {},
     "output_type": "execute_result"
    }
   ],
   "source": [
    "A_w = 1.6*1 #A_w is the window area\n",
    "A_sw = 5*2.5 - A_w #A_sw is the area of the east wall\n",
    "A_sw"
   ]
  },
  {
   "cell_type": "markdown",
   "metadata": {},
   "source": [
    "The area of the wall without the window area is 10.9 square meters"
   ]
  },
  {
   "cell_type": "code",
   "execution_count": 332,
   "metadata": {},
   "outputs": [
    {
     "data": {
      "text/plain": [
       "1.6"
      ]
     },
     "execution_count": 332,
     "metadata": {},
     "output_type": "execute_result"
    }
   ],
   "source": [
    "A_w"
   ]
  },
  {
   "cell_type": "markdown",
   "metadata": {},
   "source": [
    "The area of the window is 1.6 square meters"
   ]
  },
  {
   "cell_type": "code",
   "execution_count": 333,
   "metadata": {},
   "outputs": [
    {
     "data": {
      "text/plain": [
       "12.5"
      ]
     },
     "execution_count": 333,
     "metadata": {},
     "output_type": "execute_result"
    }
   ],
   "source": [
    "A_swt = 2.5*5 #total south wall area is the same as the total east wall area\n",
    "A_swt"
   ]
  },
  {
   "cell_type": "markdown",
   "metadata": {},
   "source": [
    "The total area of the east wall combining the wall and the door is 12.5 square meters. It is the same are as the east wall so we can use also R_wall1 to calcylate the total thermal resistance."
   ]
  },
  {
   "cell_type": "markdown",
   "metadata": {},
   "source": [
    "Finding the fraction of the window and the wall without window respectively:"
   ]
  },
  {
   "cell_type": "code",
   "execution_count": 334,
   "metadata": {},
   "outputs": [
    {
     "data": {
      "text/plain": [
       "0.128"
      ]
     },
     "execution_count": 334,
     "metadata": {},
     "output_type": "execute_result"
    }
   ],
   "source": [
    "f_w = A_w/A_swt\n",
    "f_w"
   ]
  },
  {
   "cell_type": "markdown",
   "metadata": {},
   "source": [
    "The window forms 12.8% from the total south wall area"
   ]
  },
  {
   "cell_type": "code",
   "execution_count": 335,
   "metadata": {},
   "outputs": [
    {
     "data": {
      "text/plain": [
       "0.872"
      ]
     },
     "execution_count": 335,
     "metadata": {},
     "output_type": "execute_result"
    }
   ],
   "source": [
    "f_sw = A_sw/A_swt\n",
    "f_sw"
   ]
  },
  {
   "cell_type": "markdown",
   "metadata": {},
   "source": [
    "The wall that consists of 4 layers forms 87.2% of the total south wall area"
   ]
  },
  {
   "cell_type": "code",
   "execution_count": 336,
   "metadata": {},
   "outputs": [
    {
     "data": {
      "text/plain": [
       "1.445"
      ]
     },
     "execution_count": 336,
     "metadata": {},
     "output_type": "execute_result"
    }
   ],
   "source": [
    "X2 = f_w*(1/Rw_t) + f_sw*(1/R_wall_west_total) \n",
    "#X2 = 1/R_wall_south. Did it this way because python doesn't give results when using the formula as it is.\n",
    "#R_wall_south_total is the total thermal resistance of the east wall\n",
    "\n",
    "R_wall_south_total = 1/X2\n",
    "float(\"{0:.3f}\".format(R_wall_south_total)) #Unit ((m²∙K)/W)"
   ]
  },
  {
   "cell_type": "code",
   "execution_count": 337,
   "metadata": {},
   "outputs": [
    {
     "data": {
      "text/plain": [
       "0.692"
      ]
     },
     "execution_count": 337,
     "metadata": {},
     "output_type": "execute_result"
    }
   ],
   "source": [
    "Uvalue_wall_south = 1/R_wall_south_total\n",
    "float(\"{0:.3f}\".format(Uvalue_wall_south))"
   ]
  },
  {
   "cell_type": "code",
   "execution_count": 338,
   "metadata": {},
   "outputs": [
    {
     "data": {
      "text/plain": [
       "0.644"
      ]
     },
     "execution_count": 338,
     "metadata": {},
     "output_type": "execute_result"
    }
   ],
   "source": [
    "float(\"{0:.3f}\".format(Uvalue_wall_east))"
   ]
  },
  {
   "cell_type": "code",
   "execution_count": 339,
   "metadata": {},
   "outputs": [
    {
     "data": {
      "text/plain": [
       "0.502"
      ]
     },
     "execution_count": 339,
     "metadata": {},
     "output_type": "execute_result"
    }
   ],
   "source": [
    "float(\"{0:.3f}\".format(Uvalue_wall_west))"
   ]
  },
  {
   "cell_type": "markdown",
   "metadata": {},
   "source": [
    "Comparing to the U-value of the wall that includes the door, we see that also there is a small difference because the window has a smaller thermal resistance than the door. Even the window area is smaller than the area of the door and still the U-value including the window is bigger, so the north and south wall loses heat more than the east wall. And the east wall loses energy more than the west wall.\n",
    "The north wall has the same values of the south wall."
   ]
  },
  {
   "cell_type": "code",
   "execution_count": 340,
   "metadata": {},
   "outputs": [
    {
     "data": {
      "text/plain": [
       "0.692"
      ]
     },
     "execution_count": 340,
     "metadata": {},
     "output_type": "execute_result"
    }
   ],
   "source": [
    "R_wall_north_total = R_wall_south_total #Unit ((m²∙K)/W)\n",
    "Uvalue_wall_north = Uvalue_wall_south\n",
    "float(\"{0:.3f}\".format(Uvalue_wall_north))"
   ]
  },
  {
   "cell_type": "markdown",
   "metadata": {},
   "source": [
    "**6- Determine the U-value of the roof.**"
   ]
  },
  {
   "cell_type": "markdown",
   "metadata": {},
   "source": [
    "To identify rafter length, we have a triangle of 5 meters (from the bottom of the roof south to north wall) and height of 1.5 meters. When dividing the triangle by 2 we will have 2 new triangles of 1.5 meters by 2.5 meters with an angle between them of 90 degrees. Using pitagora formula c² = a² + b², the length will be 2.91 m"
   ]
  },
  {
   "cell_type": "markdown",
   "metadata": {},
   "source": [
    "The length on top of the roof from the east side to west side is 5 meters. When dividing two rafters with a distance of 60 cm in the middle between them + 8 cm the thickness of the rafter. We will have the distance between the left of two adjacents rafters 68cm, and we will have 7 rafters in total in 5 meters. 7 rafters on each side of the roof. So on both sides 14 rafters."
   ]
  },
  {
   "cell_type": "markdown",
   "metadata": {},
   "source": [
    "Timber rafters thermal conductivity = 0.13 (W/(m∙K))"
   ]
  },
  {
   "cell_type": "code",
   "execution_count": 341,
   "metadata": {},
   "outputs": [],
   "source": [
    "λ_rafters = 0.13 #Timber rafters thermal conductivity = 0.13 (W/(m∙K))"
   ]
  },
  {
   "cell_type": "markdown",
   "metadata": {},
   "source": [
    "Evaluating the area of the 14 rafters, 2.91 m * 0.08 * 14 = 3.25 m²<br>\n",
    "Length of the rafter = 2.91 m<br>\n",
    "Thickness = 0.08m = 80cm<br>\n",
    "Total of 14 rafters<br>"
   ]
  },
  {
   "cell_type": "code",
   "execution_count": 342,
   "metadata": {},
   "outputs": [],
   "source": [
    "d_rafters = 0.15 #assuming that the rafters thickness is 15cm = 0.15 meters"
   ]
  },
  {
   "cell_type": "code",
   "execution_count": 343,
   "metadata": {},
   "outputs": [
    {
     "data": {
      "text/plain": [
       "0.867"
      ]
     },
     "execution_count": 343,
     "metadata": {},
     "output_type": "execute_result"
    }
   ],
   "source": [
    "Λ_rafters = λ_rafters/d_rafters #Thermal transmittance of rafters (W/(m²∙K))\n",
    "float(\"{0:.3f}\".format(Λ_rafters))"
   ]
  },
  {
   "cell_type": "code",
   "execution_count": 344,
   "metadata": {},
   "outputs": [
    {
     "data": {
      "text/plain": [
       "1.154"
      ]
     },
     "execution_count": 344,
     "metadata": {},
     "output_type": "execute_result"
    }
   ],
   "source": [
    "R_rafters = 1/Λ_rafters #Thermal Resistance of rafters. Unit ((m²∙K)/W)\n",
    "float(\"{0:.3f}\".format(R_rafters))"
   ]
  },
  {
   "cell_type": "markdown",
   "metadata": {},
   "source": [
    "Area_1 = Area of the roof without the walls is 2.91 * 5 * 2 = 29.1 meters<br>\n",
    "Multiplying by 2 because both sides of the roof.\n",
    "The walls of the east and west of the roofs are taking part of the roof also. The area of each side is:<br>\n",
    "5*1.5/2 = 3.75 square meters * 2 = 7.5 square meters. We multiply by 2 because 2 sides.<br>\n",
    "Total area of the roof is 36.6 square meters"
   ]
  },
  {
   "cell_type": "code",
   "execution_count": 345,
   "metadata": {},
   "outputs": [],
   "source": [
    "area_roof = 36.6\n",
    "area_1 = 29.1\n",
    "area_rafters = 3.25\n",
    "area_walls_roof = 7.5"
   ]
  },
  {
   "cell_type": "code",
   "execution_count": 346,
   "metadata": {},
   "outputs": [
    {
     "data": {
      "text/plain": [
       "0.089"
      ]
     },
     "execution_count": 346,
     "metadata": {},
     "output_type": "execute_result"
    }
   ],
   "source": [
    "f_rafters = area_rafters/area_roof #f is the fraction of the rafters area comparing to the total area of the roof\n",
    "float(\"{0:.3f}\".format(f_rafters))"
   ]
  },
  {
   "cell_type": "markdown",
   "metadata": {},
   "source": [
    "For the roof, recommended is mineral wool, thickness of 30cm = 0.3m. Thermal conductivity of 0.04. [11]"
   ]
  },
  {
   "cell_type": "code",
   "execution_count": 347,
   "metadata": {},
   "outputs": [],
   "source": [
    "d_wool = 0.3"
   ]
  },
  {
   "cell_type": "code",
   "execution_count": 348,
   "metadata": {},
   "outputs": [],
   "source": [
    "λ_wool = 0.04 #mineral wool thermal conductivity = 0.04 (W/(m∙K))"
   ]
  },
  {
   "cell_type": "markdown",
   "metadata": {},
   "source": [
    "The area of mineral wool is the rest area other than the rafters, subtracting the rafters area from the total roof area on both sides so we can identify the mineral wool area."
   ]
  },
  {
   "cell_type": "code",
   "execution_count": 349,
   "metadata": {},
   "outputs": [
    {
     "data": {
      "text/plain": [
       "0.133"
      ]
     },
     "execution_count": 349,
     "metadata": {},
     "output_type": "execute_result"
    }
   ],
   "source": [
    "Λ_wool = λ_wool/d_wool #Thermal transmittance of mineral wool 0.133 (W/(m²∙K))\n",
    "float(\"{0:.3f}\".format(Λ_wool))"
   ]
  },
  {
   "cell_type": "code",
   "execution_count": 350,
   "metadata": {},
   "outputs": [
    {
     "name": "stdout",
     "output_type": "stream",
     "text": [
      "7.5\n"
     ]
    }
   ],
   "source": [
    "R_wool = 1/Λ_wool #Thermal Resistance of mineral wool. Unit ((m²∙K)/W)\n",
    "print (R_wool)"
   ]
  },
  {
   "cell_type": "code",
   "execution_count": 351,
   "metadata": {},
   "outputs": [
    {
     "name": "stdout",
     "output_type": "stream",
     "text": [
      "25.85\n"
     ]
    }
   ],
   "source": [
    "area_wool = area_1 - area_rafters #d_wool = total area of mineral wool in the roof both sides 25.85 m²\n",
    "print (area_wool)"
   ]
  },
  {
   "cell_type": "code",
   "execution_count": 352,
   "metadata": {},
   "outputs": [
    {
     "data": {
      "text/plain": [
       "0.706"
      ]
     },
     "execution_count": 352,
     "metadata": {},
     "output_type": "execute_result"
    }
   ],
   "source": [
    "f_wool = area_wool/area_roof #f is the fraction of the mineral wool area comparing to the total area of the roof\n",
    "float(\"{0:.3f}\".format(f_wool))"
   ]
  },
  {
   "cell_type": "code",
   "execution_count": 353,
   "metadata": {},
   "outputs": [
    {
     "data": {
      "text/plain": [
       "0.205"
      ]
     },
     "execution_count": 353,
     "metadata": {},
     "output_type": "execute_result"
    }
   ],
   "source": [
    "f_walls_roof = area_walls_roof/area_roof\n",
    "float(\"{0:.3f}\".format(f_walls_roof))"
   ]
  },
  {
   "cell_type": "markdown",
   "metadata": {},
   "source": [
    "The roof walls have the same thermal resistance as the west walls (R_wall_west_total) as they consist of same materials without any windows or doors. "
   ]
  },
  {
   "cell_type": "code",
   "execution_count": 354,
   "metadata": {},
   "outputs": [
    {
     "data": {
      "text/plain": [
       "1.991"
      ]
     },
     "execution_count": 354,
     "metadata": {},
     "output_type": "execute_result"
    }
   ],
   "source": [
    "float(\"{0:.3f}\".format(R_wall_west_total))"
   ]
  },
  {
   "cell_type": "markdown",
   "metadata": {},
   "source": [
    "Rsi = internal surface resistance downwards = 0.1(m²∙K)/W<br>\n",
    "Rse = external surface resistance downwards = 0.04(m²∙K)/W<br>\n",
    "Values are by (IS06946)"
   ]
  },
  {
   "cell_type": "code",
   "execution_count": 355,
   "metadata": {},
   "outputs": [],
   "source": [
    "Rsi_roof = 0.1\n",
    "Rse_roof = 0.04"
   ]
  },
  {
   "cell_type": "code",
   "execution_count": 356,
   "metadata": {},
   "outputs": [
    {
     "data": {
      "text/plain": [
       "1.294"
      ]
     },
     "execution_count": 356,
     "metadata": {},
     "output_type": "execute_result"
    }
   ],
   "source": [
    "R_rafters_total = Rsi_roof + R_rafters + Rse_roof\n",
    "float(\"{0:.3f}\".format(R_rafters_total)) #Unit ((m²∙K)/W)"
   ]
  },
  {
   "cell_type": "code",
   "execution_count": 357,
   "metadata": {},
   "outputs": [
    {
     "data": {
      "text/plain": [
       "7.64"
      ]
     },
     "execution_count": 357,
     "metadata": {},
     "output_type": "execute_result"
    }
   ],
   "source": [
    "R_wool_total = Rsi_roof + R_wool + Rse_roof\n",
    "float(\"{0:.3f}\".format(R_wool_total)) #Unit ((m²∙K)/W)"
   ]
  },
  {
   "cell_type": "code",
   "execution_count": 358,
   "metadata": {},
   "outputs": [
    {
     "data": {
      "text/plain": [
       "3.788"
      ]
     },
     "execution_count": 358,
     "metadata": {},
     "output_type": "execute_result"
    }
   ],
   "source": [
    "X2 = f_rafters*(1/R_rafters_total) + f_wool*(1/R_wool_total) + f_walls_roof*(1/R_wall_west_total)\n",
    "#X2 = 1/R_roof_total. I did it this way because python doesn't\n",
    "#give results when using the formula as it is.\n",
    "\n",
    "R_roof_total = 1/X2\n",
    "float(\"{0:.3f}\".format(R_roof_total)) #Unit ((m²∙K)/W)"
   ]
  },
  {
   "cell_type": "code",
   "execution_count": 359,
   "metadata": {},
   "outputs": [
    {
     "data": {
      "text/plain": [
       "0.264"
      ]
     },
     "execution_count": 359,
     "metadata": {},
     "output_type": "execute_result"
    }
   ],
   "source": [
    "Uvalue_roof = 1/R_roof_total\n",
    "float(\"{0:.3f}\".format(Uvalue_roof))"
   ]
  },
  {
   "cell_type": "markdown",
   "metadata": {},
   "source": [
    "<br>"
   ]
  },
  {
   "cell_type": "markdown",
   "metadata": {},
   "source": [
    "**7 Determine the U-value of the whole house.**"
   ]
  },
  {
   "cell_type": "markdown",
   "metadata": {},
   "source": [
    "In order to determine the Uvalue of all the house, we should combine all the walls, ground and roof as parallel, because they are touching each others on the sides and exchanging temperature also.<br>\n",
    "First we should have to determine the fraction of each side before doing the calculations."
   ]
  },
  {
   "cell_type": "code",
   "execution_count": 360,
   "metadata": {},
   "outputs": [
    {
     "data": {
      "text/plain": [
       "119.1"
      ]
     },
     "execution_count": 360,
     "metadata": {},
     "output_type": "execute_result"
    }
   ],
   "source": [
    "area_house = 5*5 + 5*2.5*4 + 5*1.5*2 + 2.91*5*2  #5*5(ground area); 5*2 (wall area)*4 (4 equal walls);\n",
    "                                               #2.91*5 (roof)*2 (2 sides). Unit = square meters\n",
    "area_house"
   ]
  },
  {
   "cell_type": "code",
   "execution_count": 361,
   "metadata": {},
   "outputs": [
    {
     "data": {
      "text/plain": [
       "0.105"
      ]
     },
     "execution_count": 361,
     "metadata": {},
     "output_type": "execute_result"
    }
   ],
   "source": [
    "fr_wall_west = 12.5/area_house\n",
    "float(\"{0:.3f}\".format(fr_wall_west))"
   ]
  },
  {
   "cell_type": "code",
   "execution_count": 362,
   "metadata": {},
   "outputs": [
    {
     "data": {
      "text/plain": [
       "0.105"
      ]
     },
     "execution_count": 362,
     "metadata": {},
     "output_type": "execute_result"
    }
   ],
   "source": [
    "fr_wall_east  = fr_wall_north = fr_wall_south = fr_wall_west #as they have equal are size in square meters\n",
    "float(\"{0:.3f}\".format(fr_wall_east))"
   ]
  },
  {
   "cell_type": "code",
   "execution_count": 363,
   "metadata": {},
   "outputs": [
    {
     "data": {
      "text/plain": [
       "0.105"
      ]
     },
     "execution_count": 363,
     "metadata": {},
     "output_type": "execute_result"
    }
   ],
   "source": [
    "float(\"{0:.3f}\".format(fr_wall_south))"
   ]
  },
  {
   "cell_type": "code",
   "execution_count": 364,
   "metadata": {},
   "outputs": [
    {
     "data": {
      "text/plain": [
       "0.105"
      ]
     },
     "execution_count": 364,
     "metadata": {},
     "output_type": "execute_result"
    }
   ],
   "source": [
    "float(\"{0:.3f}\".format(fr_wall_north))"
   ]
  },
  {
   "cell_type": "code",
   "execution_count": 365,
   "metadata": {},
   "outputs": [
    {
     "data": {
      "text/plain": [
       "0.21"
      ]
     },
     "execution_count": 365,
     "metadata": {},
     "output_type": "execute_result"
    }
   ],
   "source": [
    "fr_floor = 25/area_house\n",
    "float(\"{0:.3f}\".format(fr_floor))"
   ]
  },
  {
   "cell_type": "code",
   "execution_count": 366,
   "metadata": {},
   "outputs": [
    {
     "data": {
      "text/plain": [
       "0.307"
      ]
     },
     "execution_count": 366,
     "metadata": {},
     "output_type": "execute_result"
    }
   ],
   "source": [
    "fr_roof = area_roof/area_house\n",
    "float(\"{0:.3f}\".format(fr_roof))"
   ]
  },
  {
   "cell_type": "code",
   "execution_count": 367,
   "metadata": {},
   "outputs": [
    {
     "data": {
      "text/plain": [
       "2.484"
      ]
     },
     "execution_count": 367,
     "metadata": {},
     "output_type": "execute_result"
    }
   ],
   "source": [
    "X3 = fr_wall_west*(1/R_wall_west_total) + fr_wall_east*(1/R_wall_east_total) + fr_wall_south*(1/R_wall_south_total) + fr_wall_north*(1/R_wall_north_total) + fr_floor*(1/R_floor_total) + fr_roof*(1/R_roof_total)\n",
    "#X3 = 1/R_house. I did it this way because python doesn't\n",
    "#give results when using the formula as it is.\n",
    "\n",
    "R_house = 1/X3\n",
    "float(\"{0:.3f}\".format(R_house))"
   ]
  },
  {
   "cell_type": "code",
   "execution_count": 368,
   "metadata": {},
   "outputs": [
    {
     "data": {
      "text/plain": [
       "0.403"
      ]
     },
     "execution_count": 368,
     "metadata": {},
     "output_type": "execute_result"
    }
   ],
   "source": [
    "Uvalue_house = 1/R_house\n",
    "float(\"{0:.3f}\".format(Uvalue_house))"
   ]
  },
  {
   "cell_type": "markdown",
   "metadata": {},
   "source": [
    "**8- How much energy would you lose per day for domestic heating, when interior and exterior temperatures are 20°C and -5°C, respectively?**"
   ]
  },
  {
   "cell_type": "markdown",
   "metadata": {},
   "source": [
    "Using Stefan Boltzmann Law to calculate the energy loss"
   ]
  },
  {
   "cell_type": "code",
   "execution_count": 369,
   "metadata": {},
   "outputs": [
    {
     "data": {
      "text/plain": [
       "1198.842"
      ]
     },
     "execution_count": 369,
     "metadata": {},
     "output_type": "execute_result"
    }
   ],
   "source": [
    "Heat_loss = (area_house*1/R_house)*ΔT_diff #Unit (W)\n",
    "float(\"{0:.3f}\".format(Heat_loss))"
   ]
  },
  {
   "cell_type": "markdown",
   "metadata": {},
   "source": [
    "1 watts = 86400 (joules/day)"
   ]
  },
  {
   "cell_type": "code",
   "execution_count": 370,
   "metadata": {},
   "outputs": [
    {
     "data": {
      "text/plain": [
       "103579958.973"
      ]
     },
     "execution_count": 370,
     "metadata": {},
     "output_type": "execute_result"
    }
   ],
   "source": [
    "Heat_energy = Heat_loss * 86400 #Unit (joules/day)\n",
    "float(\"{0:.3f}\".format(Heat_energy))"
   ]
  },
  {
   "cell_type": "markdown",
   "metadata": {},
   "source": [
    "**9- Choose one of the following actions to improve the insulation properties of the house and calculate:<br>\n",
    "a. Better windows<br>\n",
    "b. Better wall insulation (How would you do it?)<br>\n",
    "c. Better roof insulation (How would you do it?)**"
   ]
  },
  {
   "cell_type": "code",
   "execution_count": 371,
   "metadata": {},
   "outputs": [
    {
     "data": {
      "text/plain": [
       "0.5022509848058525"
      ]
     },
     "execution_count": 371,
     "metadata": {},
     "output_type": "execute_result"
    }
   ],
   "source": [
    "Uvalue_wall_west #W/(m²∙K)"
   ]
  },
  {
   "cell_type": "code",
   "execution_count": 372,
   "metadata": {},
   "outputs": [
    {
     "data": {
      "text/plain": [
       "0.6441130494591384"
      ]
     },
     "execution_count": 372,
     "metadata": {},
     "output_type": "execute_result"
    }
   ],
   "source": [
    "Uvalue_wall_east #W/(m²∙K)"
   ]
  },
  {
   "cell_type": "code",
   "execution_count": 373,
   "metadata": {},
   "outputs": [
    {
     "data": {
      "text/plain": [
       "0.6922674945122929"
      ]
     },
     "execution_count": 373,
     "metadata": {},
     "output_type": "execute_result"
    }
   ],
   "source": [
    "Uvalue_wall_south #W/(m²∙K)"
   ]
  },
  {
   "cell_type": "code",
   "execution_count": 374,
   "metadata": {},
   "outputs": [
    {
     "data": {
      "text/plain": [
       "0.2819697068071568"
      ]
     },
     "execution_count": 374,
     "metadata": {},
     "output_type": "execute_result"
    }
   ],
   "source": [
    "Uvalue_floor #W/(m²∙K)"
   ]
  },
  {
   "cell_type": "code",
   "execution_count": 375,
   "metadata": {},
   "outputs": [
    {
     "data": {
      "text/plain": [
       "0.26399674442262194"
      ]
     },
     "execution_count": 375,
     "metadata": {},
     "output_type": "execute_result"
    }
   ],
   "source": [
    "Uvalue_roof #W/(m²∙K)"
   ]
  },
  {
   "cell_type": "markdown",
   "metadata": {},
   "source": [
    "Uvalue of the window 4.8 W/(m²∙K)<br>\n",
    "Uvalue of the door 1.8 W/(m²∙K)"
   ]
  },
  {
   "cell_type": "markdown",
   "metadata": {},
   "source": [
    "Looking at the values, the south and north walls have the biggest Uvalues, this is because of the windows. Although the area of the window is smaller than the area of the door, but it has a bigger effect on the total Uvalue of the walls, that's why it helps a lot to change the windows.<br>\n",
    "The door also has an effect and it is better to insulate it more.\n",
    "But looking at the west wall it has also a high Uvalue of 0.5 even though it doesn't have any window or door, highest than the value required in cold countries, and if we better insulate the wall it has a biggest advantage of the insulation in total than improve the windows or the door because the walls have the biggest area.<br>\n",
    "If I have to choose only one option I will choose to improve the walls insulation, but I will list the improvements of all the 3 points."
   ]
  },
  {
   "cell_type": "markdown",
   "metadata": {},
   "source": [
    "a- For better insulation of the windows, double glazing is better than single glazing windows, especially when filled with argon gas and not natural air. The layer of argon gas has 67% of thermal conductivity of air, making it a poor conductor of heat, thus keeping warm air trapped inside your home and helping improve energy efficiency. [16]<br>\n",
    "b- For better wall insulation, a thicker core insulation, 10cm instead of 4cm, or put glass wool sandwich panel 50cm thickness and has a very low thermal conductivity less than 0.04. Insulating from outside better than insulating from inside to avoid humidity problems. Glass wool sandwich panel are nonflammable, excellent for sound absorption, anti corrosion and very good for insulation.<br>\n",
    "c- The roof is somehow good insulated, but for better insulation, we can use thicker mineral wool, or installing glass wool between the mineral wool and the bricks near the rafters, as well as covering the rafters with a small layer of glass wool to insulate them more."
   ]
  },
  {
   "cell_type": "markdown",
   "metadata": {},
   "source": [
    "**10- What is the German EnEV? What is it good for?**"
   ]
  },
  {
   "cell_type": "markdown",
   "metadata": {},
   "source": [
    "The new EnEV requires the following of all buildings erected from 1 January 2016:<br>\n",
    "Lower consumption of primary energy, by an average of 25 percent of the current ceiling.<br>\n",
    "The thermal insulation used on the building envelope must be 20 percent more effective as measured by its overall heat transfer coefficient.[12]<br>\n",
    "In the EnEV is regulated, which energy standard a house, or parts of the house after a renovation must reach, or which requirements are made on new buildings. The EnEV is reformulated and tightened again and again over the years so that by the year 2050 an almost climate-neutral building stock can be realised.<br>\n",
    "An important measure for compliance with the EnEV is the installation of suitable windows and doors that do not exceed a certain U-value.[13]<br>\n",
    "It is good for the environment to reduce pollution as the goal is to achieve climate-neutral building stock by the year 2050, especially that third of CO2 emissions are caused by buildings.[14]\n"
   ]
  },
  {
   "cell_type": "markdown",
   "metadata": {},
   "source": [
    "**11- What is the proportion of energy consumption for heating on the total energy in Germany?**"
   ]
  },
  {
   "cell_type": "markdown",
   "metadata": {},
   "source": [
    "More than 53 percent of total final energy consumption in Germany is accounted for by the provision of heat,” AGEB reported.[17] "
   ]
  },
  {
   "cell_type": "markdown",
   "metadata": {},
   "source": [
    "**12- Justify all your steps and give sources (literature, links, …).**"
   ]
  },
  {
   "cell_type": "markdown",
   "metadata": {},
   "source": [
    "1- https://floortechie.com/flooring-anatomy-covering-underlayment-subfloor-joists/<br>\n",
    "2- https://www.thespruce.com/flooring-underlayment-1821628<br>\n",
    "3- https://passivehouse-database.org/#d_0121<br>\n",
    "4- https://www.concreteconstruction.net/how-to/construction/concrete-floor-slabs_o<br>\n",
    "5- https://en.wikipedia.org/wiki/List_of_thermal_conductivities<br>\n",
    "6- http://hyperphysics.phy-astr.gsu.edu/hbase/Tables/thrcn.html<br>\n",
    "7- Effting, Carmeane & Guths, Saulo & Orestes, Alarcon. (2007). Evaluation of the thermal comfort of ceramic floor tiles. Materials Research-ibero-american Journal of Materials - MATER RES-IBERO-AM J MATER. 10. 10.1590/S1516-14392007000300016.<br>\n",
    "8- https://www.energyswingwindows.com/about-us/news-and-events/27217-what-is-the-thickness-of-glass-used-in-most-residential-replacement-windows.html<br>\n",
    "9- https://www.buildingconservation.com/articles/thermal/thermal.htm<br>\n",
    "10- https://www.doornmore.com/help/what-is-the-standard-size-for-residential-homes.html<br>\n",
    "11- https://en.wikipedia.org/wiki/R-value_(insulation)<br>\n",
    "12- https://www.swisskrono.de/News-Articles/The-2014-German-Energy-Saving-Ordinance-EnEV-2014-Stricter-Requirements-for-Energy-Efficiency-0522282941.html<br>\n",
    "13- https://www.enersign.com/en/glossar/energieeinsparverordnung-enev/<br>\n",
    "14- https://www.inventer.eu/blog/enev-information-on-the-energy-saving-ordinance-for-owners/<br>\n",
    "15- https://www.hunker.com/12609430/how-thick-is-ceramic-tile<br>\n",
    "16- https://www.anglianhome.co.uk/double-glazing-windows/faq/how-do-they-work<br>\n",
    "17- https://www.cleanenergywire.org/news/german-households-use-less-energy-heating-more-cooling<br>"
   ]
  }
 ],
 "metadata": {
  "kernelspec": {
   "display_name": "Python 3",
   "language": "python",
   "name": "python3"
  },
  "language_info": {
   "codemirror_mode": {
    "name": "ipython",
    "version": 3
   },
   "file_extension": ".py",
   "mimetype": "text/x-python",
   "name": "python",
   "nbconvert_exporter": "python",
   "pygments_lexer": "ipython3",
   "version": "3.8.5"
  }
 },
 "nbformat": 4,
 "nbformat_minor": 4
}
